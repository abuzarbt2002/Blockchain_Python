{
 "cells": [
  {
   "cell_type": "markdown",
   "id": "d2a0d0a5-d3b1-4e23-9ef4-90b3473b2fa4",
   "metadata": {},
   "source": [
    "## Importing from Wallet.PY"
   ]
  },
  {
   "cell_type": "code",
   "execution_count": 2,
   "id": "31398295-ea70-49fa-92b3-828a786cadd3",
   "metadata": {},
   "outputs": [],
   "source": [
    "from wallet import *"
   ]
  },
  {
   "cell_type": "markdown",
   "id": "44f8582b-1768-494d-bbc9-f3d9547e6cd8",
   "metadata": {},
   "source": [
    "## Executing BTC Test from the Wallet.py file using below parameters"
   ]
  },
  {
   "cell_type": "code",
   "execution_count": 3,
   "id": "23f83d55-7f8c-468a-88ca-2bada6d5406d",
   "metadata": {},
   "outputs": [
    {
     "data": {
      "text/plain": [
       "0.0005"
      ]
     },
     "execution_count": 3,
     "metadata": {},
     "output_type": "execute_result"
    }
   ],
   "source": [
    "private_key = 'cVtjnz9NJwbuJnAFFYtLxJRBbKVT3uhvYdPbeFpFMrcA16gzbNEn'\n",
    "coin = BTCTEST\n",
    "to = 'n46CiAbAx6Ajdriep1pu6UAq8WLkNQfvss'\n",
    "#account = 'mfkv6b46Q1DFfxBnHsQi8MeQB382ujwdSb'\n",
    "amount = (0.001/2)\n",
    "amount"
   ]
  },
  {
   "cell_type": "code",
   "execution_count": null,
   "id": "d4824733-5172-4371-8c21-a4b627afa966",
   "metadata": {},
   "outputs": [],
   "source": [
    "priv_key = priv_key_to_account(coin, private_key)\n",
    "account = priv_key\n",
    "snd_tx = send_tx(coin, account, to, amount)"
   ]
  },
  {
   "cell_type": "markdown",
   "id": "4944e754-efc2-45d4-8739-0a1e0df7249d",
   "metadata": {},
   "source": [
    "## Executing ETH Test from the Wallet.py file using below parameters"
   ]
  },
  {
   "cell_type": "code",
   "execution_count": 4,
   "id": "3ab50fe8-6e18-4f2f-a916-0b15e1f1f622",
   "metadata": {},
   "outputs": [
    {
     "data": {
      "text/plain": [
       "10"
      ]
     },
     "execution_count": 4,
     "metadata": {},
     "output_type": "execute_result"
    }
   ],
   "source": [
    "private_key = '0xbd5dfba38ffbe7b4ad9785a9c8a417184399bcffc24382967d71e5da11a49c1f'\n",
    "coin = ETH\n",
    "to = '0x40C52cC735ddAF8feca9E9BbE467c505eF4E222D'\n",
    "#account = 'mfkv6b46Q1DFfxBnHsQi8MeQB382ujwdSb'\n",
    "amount = 10\n",
    "amount"
   ]
  },
  {
   "cell_type": "code",
   "execution_count": null,
   "id": "4ea6203f-b796-44b1-ad44-b364e15e8e52",
   "metadata": {},
   "outputs": [],
   "source": [
    "priv_key = priv_key_to_account(coin, private_key)\n",
    "account = priv_key\n",
    "snd_tx = send_tx(coin, account, to, amount)"
   ]
  }
 ],
 "metadata": {
  "kernelspec": {
   "display_name": "Python 3",
   "language": "python",
   "name": "python3"
  },
  "language_info": {
   "codemirror_mode": {
    "name": "ipython",
    "version": 3
   },
   "file_extension": ".py",
   "mimetype": "text/x-python",
   "name": "python",
   "nbconvert_exporter": "python",
   "pygments_lexer": "ipython3",
   "version": "3.7.10"
  }
 },
 "nbformat": 4,
 "nbformat_minor": 5
}
